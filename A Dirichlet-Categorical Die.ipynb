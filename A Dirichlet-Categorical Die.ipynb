{
 "cells": [
  {
   "cell_type": "code",
   "execution_count": 407,
   "metadata": {},
   "outputs": [],
   "source": [
    "# comment \n",
    "# seeded number generator\n",
    "# test \n",
    "# refactor \n",
    "\n",
    "import unittest\n",
    "import random\n",
    "import math \n",
    "import numpy as np\n",
    "import scipy.stats\n",
    "import matplotlib.pyplot as plt\n",
    "import torch\n",
    "from torch.autograd import Variable \n",
    "import torch.nn\n",
    "import torch.distributions.constraints as constraints\n",
    "import pyro \n",
    "import pyro.infer\n",
    "import pyro.optim\n",
    "import pyro.distributions as dist\n",
    "torch.manual_seed(123)\n",
    "np.random.seed(123)\n",
    "random.seed(123)\n",
    "\n"
   ]
  },
  {
   "cell_type": "code",
   "execution_count": 416,
   "metadata": {},
   "outputs": [
    {
     "name": "stdout",
     "output_type": "stream",
     "text": [
      ".........."
     ]
    },
    {
     "data": {
      "image/png": "[encoded data removed]",
      "text/plain": [
       "<matplotlib.figure.Figure at 0x117fcf710>"
      ]
     },
     "metadata": {},
     "output_type": "display_data"
    },
    {
     "name": "stdout",
     "output_type": "stream",
     "text": [
      "MSE distance between true posterior and variational approximation = 0.0001495530450483784\n",
      "Inferred entropy = -79.11433865723666\n",
      "Inferred variance = [  7.69935650e-05   6.62347020e-06   8.11544305e-06   1.96388191e-05\n",
      "   6.03021035e-05   1.30347814e-06   3.54373478e-05   4.64570658e-05\n",
      "   8.47808042e-06   8.38358974e-05   3.45614353e-05   2.98069317e-05\n",
      "   4.49664112e-05   2.40140398e-05   1.49311272e-05   8.14659643e-07\n",
      "   5.56988016e-05   1.72761702e-05   1.06461380e-06   1.85618439e-04]\n"
     ]
    }
   ],
   "source": [
    "pyro.enable_validation(True)\n",
    "\n",
    "# Init data size \n",
    "N = 10000\n",
    "\n",
    "def create_data(N):\n",
    "    \"\"\" Simulate N die rolls \"\"\"\n",
    "    \n",
    "    # Randomly initialize condition of 20 sided die\n",
    "    die_probs = pyro.sample(\"die_probs\", dist.Dirichlet(torch.rand(20)))\n",
    "    \n",
    "    # Roll die N times\n",
    "    data = pyro.sample(\"data\", dist.Categorical(die_probs).expand_by([N]))\n",
    "    return die_probs, data\n",
    "\n",
    "\n",
    "def close_enough(parameter, target):\n",
    "    \"\"\" Compute MSE distance of parameter estimate \n",
    "        from target\n",
    "    \"\"\"\n",
    "    # Create normalized versions of input probabilities\n",
    "    param_norm = pyro.param(parameter)/torch.sum(pyro.param(parameter))\n",
    "    target_norm = target/torch.sum(target)\n",
    "    return torch.sum(torch.pow(param_norm - target_norm, 2)).item()\n",
    "\n",
    "class DirichletCategoricalDie(object):\n",
    "    def __init__(self, N):\n",
    "        \n",
    "        # Register dataset and true probs\n",
    "        die_probs, data = create_data(N)\n",
    "        self.data = data\n",
    "        self.die_probs = die_probs\n",
    "        self.len = N\n",
    "        \n",
    "        # Init Dirichlet hyperparameters\n",
    "        self.alphas = 5*torch.ones(20)\n",
    "    \n",
    "        # Init variational parameters\n",
    "        self.alphas_q = 15*torch.ones(20)\n",
    "\n",
    "        # Create hashtable and add pseudocounts\n",
    "        alphas_data = list(self.alphas.data.numpy())  \n",
    "        posterior_dict = {idx:int(i) for idx, i in enumerate(alphas_data)}\n",
    "            \n",
    "        # Add counts from data\n",
    "        for param in self.data:\n",
    "            posterior_dict[int(param.data.numpy())] += 1\n",
    "        alphas_true = torch.Tensor(list(posterior_dict.values()))\n",
    "        \n",
    "        # Store exact posterior parameters \n",
    "        self.alphas_true = alphas_true\n",
    "        \n",
    "        \n",
    "    def model(self):\n",
    "        \"\"\" Define hypothesized data generating process \"\"\"\n",
    "        \n",
    "        # Sample from prior Dirichlet prior\n",
    "        model_prior = pyro.sample(\"latent_probs\", dist.Dirichlet(self.alphas))\n",
    "        \n",
    "        # Condition model on observations using data\n",
    "        with pyro.iarange(\"model_iarange\", size=len(self.data), \n",
    "                          subsample_size = 500) as ind:\n",
    "            pyro.sample(\"obs\", dist.Categorical(model_prior),\n",
    "                        obs = self.data.index_select(0, ind))\n",
    "        \n",
    "    def guide(self):\n",
    "        \"\"\" Define variational distribution to \n",
    "            infer latent variables \n",
    "        \"\"\"\n",
    "        # Register variational parameters\n",
    "        alphas_q = pyro.param(\"alphas_q\", self.alphas_q,\n",
    "                              constraint = constraints.positive)\n",
    "        \n",
    "        # Assert same model-guide signature by\n",
    "        # sampling latent variable and \n",
    "        # using a decaying average baseline \n",
    "        return pyro.sample(\"latent_probs\", dist.Dirichlet(alphas_q), \n",
    "                            infer = {'use_decaying_avg_baseline': True,\n",
    "                            'baseline_beta': 0.90})\n",
    "        \n",
    "    def infer(self):\n",
    "        \"\"\" Use SVI to infer latent variables.\n",
    "            Print difference between true \n",
    "            posterior parameters and optimized parameters \n",
    "        \"\"\"\n",
    "        pyro.clear_param_store()\n",
    "        \n",
    "        # Optimize using Adam and use a TraceGraph_ELBO loss \n",
    "        # to reduce variance using Rao-Blackwellization \n",
    "        optimizer = pyro.optim.SGD({\"lr\": 0.0001})\n",
    "        svi = pyro.infer.SVI(self.model, self.guide, optimizer, \n",
    "                             loss=pyro.infer.TraceGraph_ELBO())\n",
    "\n",
    "        # Perform 1k steps of inference\n",
    "        losses = []\n",
    "        for k in range(1000):\n",
    "            losses.append(svi.step())\n",
    "            if k % 100 == 0:\n",
    "                print('.', end='')\n",
    "                \n",
    "        # Plot Loss        \n",
    "        plt.plot(losses)\n",
    "        plt.title(\"ELBO loss standardized on sum\")\n",
    "        plt.xlabel(\"step\")\n",
    "        plt.ylabel(\"loss\")\n",
    "        plt.show()\n",
    "\n",
    "        # Print L2 errors of optimized estimate\n",
    "        # as well as entropy and variance\n",
    "        alphas_error = close_enough(\"alphas_q\", self.alphas_true)\n",
    "        entropy = scipy.stats.dirichlet.entropy(pyro.param(\"alphas_q\").data.numpy())\n",
    "        variance = scipy.stats.dirichlet.var(pyro.param(\"alphas_q\").data.numpy())\n",
    "        print((\"MSE distance between true posterior\" +\n",
    "               \" and variational approximation = {}\").format((alphas_error)))\n",
    "        \n",
    "        # We expect a low entropy since the die is almost fair\n",
    "        print(\"Inferred entropy = {}\".format(entropy))\n",
    "        print(\"Inferred variance = {}\".format(variance))\n",
    "\n",
    "dcd = DirichletCategoricalDie(N)\n",
    "dcd.infer()"
   ]
  },
  {
   "cell_type": "code",
   "execution_count": 412,
   "metadata": {},
   "outputs": [
    {
     "name": "stdout",
     "output_type": "stream",
     "text": [
      "[4.81704592e-05, 4.69616816e-06]\n"
     ]
    }
   ],
   "source": [
    "pprint.pprint([  4.81704592e-05  , 4.69616816e-06 ])"
   ]
  },
  {
   "cell_type": "code",
   "execution_count": null,
   "metadata": {
    "collapsed": true
   },
   "outputs": [],
   "source": []
  }
 ],
 "metadata": {
  "kernelspec": {
   "display_name": "Python 3",
   "language": "python",
   "name": "python3"
  },
  "language_info": {
   "codemirror_mode": {
    "name": "ipython",
    "version": 3
   },
   "file_extension": ".py",
   "mimetype": "text/x-python",
   "name": "python",
   "nbconvert_exporter": "python",
   "pygments_lexer": "ipython3",
   "version": "3.6.1"
  }
 },
 "nbformat": 4,
 "nbformat_minor": 2
}
